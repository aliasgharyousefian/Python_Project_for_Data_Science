{
  "nbformat": 4,
  "nbformat_minor": 0,
  "metadata": {
    "colab": {
      "provenance": []
    },
    "kernelspec": {
      "name": "python3",
      "display_name": "Python 3"
    },
    "language_info": {
      "name": "python"
    }
  },
  "cells": [
    {
      "cell_type": "code",
      "execution_count": null,
      "metadata": {
        "colab": {
          "base_uri": "https://localhost:8080/"
        },
        "id": "PERLIZzMQpK1",
        "outputId": "d0bf97df-fb9d-485b-d4d6-14f7849189cf"
      },
      "outputs": [
        {
          "output_type": "stream",
          "name": "stdout",
          "text": [
            "Looking in indexes: https://pypi.org/simple, https://us-python.pkg.dev/colab-wheels/public/simple/\n",
            "Collecting pickle5\n",
            "  Downloading pickle5-0.0.11.tar.gz (132 kB)\n",
            "\u001b[2K     \u001b[90m━━━━━━━━━━━━━━━━━━━━━━━━━━━━━━━━━━━━━━━\u001b[0m \u001b[32m132.1/132.1 KB\u001b[0m \u001b[31m2.6 MB/s\u001b[0m eta \u001b[36m0:00:00\u001b[0m\n",
            "\u001b[?25h  Preparing metadata (setup.py) ... \u001b[?25l\u001b[?25hdone\n",
            "Building wheels for collected packages: pickle5\n",
            "  Building wheel for pickle5 (setup.py) ... \u001b[?25l\u001b[?25hdone\n",
            "  Created wheel for pickle5: filename=pickle5-0.0.11-cp38-cp38-linux_x86_64.whl size=262126 sha256=c2e0d6dd6f33905a451dc178a154a5d6df321074f39058d17024af19bde5bcc0\n",
            "  Stored in directory: /root/.cache/pip/wheels/25/d4/61/dbd8edd1a0d656be7b4267c85db3b61951eb60016a0154a122\n",
            "Successfully built pickle5\n",
            "Installing collected packages: pickle5\n",
            "Successfully installed pickle5-0.0.11\n",
            "Looking in indexes: https://pypi.org/simple, https://us-python.pkg.dev/colab-wheels/public/simple/\n",
            "Collecting cryptocmd\n",
            "  Downloading cryptocmd-0.6.1-py3-none-any.whl (8.5 kB)\n",
            "Collecting tablib\n",
            "  Downloading tablib-3.3.0-py3-none-any.whl (48 kB)\n",
            "\u001b[2K     \u001b[90m━━━━━━━━━━━━━━━━━━━━━━━━━━━━━━━━━━━━━━━━\u001b[0m \u001b[32m48.6/48.6 KB\u001b[0m \u001b[31m2.9 MB/s\u001b[0m eta \u001b[36m0:00:00\u001b[0m\n",
            "\u001b[?25hRequirement already satisfied: requests in /usr/local/lib/python3.8/dist-packages (from cryptocmd) (2.25.1)\n",
            "Requirement already satisfied: chardet<5,>=3.0.2 in /usr/local/lib/python3.8/dist-packages (from requests->cryptocmd) (4.0.0)\n",
            "Requirement already satisfied: certifi>=2017.4.17 in /usr/local/lib/python3.8/dist-packages (from requests->cryptocmd) (2022.12.7)\n",
            "Requirement already satisfied: urllib3<1.27,>=1.21.1 in /usr/local/lib/python3.8/dist-packages (from requests->cryptocmd) (1.24.3)\n",
            "Requirement already satisfied: idna<3,>=2.5 in /usr/local/lib/python3.8/dist-packages (from requests->cryptocmd) (2.10)\n",
            "Installing collected packages: tablib, cryptocmd\n",
            "Successfully installed cryptocmd-0.6.1 tablib-3.3.0\n"
          ]
        }
      ],
      "source": [
        "import pandas as pd\n",
        "import numpy as np\n",
        "!pip install pickle5\n",
        "import pickle5 as pickle\n",
        "!pip install cryptocmd\n",
        "from cryptocmd import CmcScraper"
      ]
    },
    {
      "cell_type": "code",
      "source": [
        "Stock_name=\"BTC\"\n",
        "\n",
        "# initialise scraper without time interval for max historical data\n",
        "scraper = CmcScraper(Stock_name)\n",
        "# Pandas dataFrame for the same data\n",
        "df = scraper.get_dataframe()\n",
        "df['Date'] = pd.to_datetime(df['Date'],format='%Y-%m-%d')#.dt.strftime(\"%Y-%m-%d\");\n",
        "df.set_index('Date', inplace=True)\n",
        "df.sort_index(inplace=True)\n",
        "df\n",
        "data_for_valid_2=df.copy()"
      ],
      "metadata": {
        "id": "CLgtSTXrQ5Ka"
      },
      "execution_count": null,
      "outputs": []
    },
    {
      "cell_type": "code",
      "source": [
        "data_for_valid_2.describe"
      ],
      "metadata": {
        "id": "kilfHO4ZRJds"
      },
      "execution_count": null,
      "outputs": []
    },
    {
      "cell_type": "code",
      "source": [
        "stock_data_2=stock_data[[\"Close\",'Volume']]\n",
        "stock_data_2.plot(subplots = True, figsize = (8, 8));"
      ],
      "metadata": {
        "id": "SWIEe8g6fuM3"
      },
      "execution_count": null,
      "outputs": []
    },
    {
      "cell_type": "code",
      "source": [
        "Stock_name=\"BTC\"\n",
        "FUTURE_PERIOD_PREDICT =7  # how far into the future are we trying to predict?\n",
        "RATIO_TO_PREDICT = \"Close\"\n",
        "\n",
        "# initialise scraper without time interval for max historical data\n",
        "scraper = CmcScraper(Stock_name)\n",
        "# Pandas dataFrame for the same data\n",
        "df = scraper.get_dataframe()\n",
        "df['Date'] = pd.to_datetime(df['Date'],format='%Y-%m-%d')#.dt.strftime(\"%Y-%m-%d\");\n",
        "df.set_index('Date', inplace=True)\n",
        "df.sort_index(inplace=True)\n",
        "df\n",
        "\n",
        "df_date=df.copy()\n",
        "\n",
        "df_date['lable_0']=(df_date['Close'].pct_change(periods=7)*100).shift(-7)\n",
        "\n",
        "def vwap(dataframe, label='vwap', window=14, fillna=True):\n",
        "        dataframe[label] = VolumeWeightedAveragePrice(high=dataframe['High'], low=dataframe['Low'], close=dataframe[\"Close\"], volume=dataframe['Volume'], window=window, fillna=fillna).volume_weighted_average_price()\n",
        "        return dataframe\n",
        "\n",
        "d=vwap(df_date)\n",
        "\n",
        "df_date['future'] = df_date[RATIO_TO_PREDICT].shift(-FUTURE_PERIOD_PREDICT)\n",
        "def classify(current, future):\n",
        "    if ((float(future) - float(current))/ float(current))>0.05:\n",
        "        return 5\n",
        "    if  0.01<=((float(future) - float(current))/ float(current))<0.05:\n",
        "        return 4\n",
        "    if  -0.01<=((float(future) - float(current))/ float(current))<0.01:\n",
        "        return 3\n",
        "    if  -0.05<=((float(future) - float(current))/ float(current))<-0.01:\n",
        "        return 2\n",
        "    if ((float(future) - float(current))/ float(current))<-0.05:\n",
        "        return 1\n",
        "df_date=df_date.dropna()\n",
        "df_date['target'] = list(map(classify, df_date[RATIO_TO_PREDICT], df_date['future']))\n",
        "print(df_date)"
      ],
      "metadata": {
        "id": "RD_UR7FHfhBx"
      },
      "execution_count": null,
      "outputs": []
    },
    {
      "cell_type": "code",
      "source": [],
      "metadata": {
        "id": "sqcq7kQSvUmi"
      },
      "execution_count": null,
      "outputs": []
    },
    {
      "cell_type": "code",
      "source": [
        "times = sorted(main_df.index.values)  # get the times\n",
        "last_10pct = sorted(main_df.index.values)[-int(0.1*len(times))]  # get the last 10% of the times\n",
        " \n",
        "validation_main_df = main_df[(main_df.index >= last_10pct)]  # make the validation data where the index is in the last 10%\n",
        "main_df = main_df[(main_df.index < last_10pct)]  # now the main_df is all the data up to the last 10%\n",
        " \n",
        "main_df.head()\n",
        "print(validation_main_df)"
      ],
      "metadata": {
        "id": "tEUdSueNvdN5"
      },
      "execution_count": null,
      "outputs": []
    },
    {
      "cell_type": "code",
      "source": [
        "main_df.to_excel(\"main_df.xlsx\",sheet_name='main_df')\n",
        "files.download('main_df.xlsx') "
      ],
      "metadata": {
        "id": "DwIvhQMZwFII"
      },
      "execution_count": null,
      "outputs": []
    },
    {
      "cell_type": "code",
      "source": [
        "def preprocess_df(df):\n",
        " \n",
        "  for co in df.columns:\n",
        "    if co == \"future\":\n",
        "      df = df.drop(\"future\", 1)  # don't need this anymore.\n",
        "    if co == \"MID\":\n",
        "      df = df.drop(\"MID\", 1)\n",
        " \n",
        "  \n",
        "  df1= df[['SHAKHES', 'VOL-SHAKHES','NUM-SHAKHES','VALUE-SHAKHES','seke','dollar','<OPEN>','<HIGH>','<LOW>','<CLOSE>','<VOL>','<VALUE>']]\n",
        "  df2 = df1.pct_change()\n",
        "  df2=df2.replace([np.inf, -np.inf], np.nan).dropna( how=\"all\")\n",
        "  df2.dropna(inplace=True)\n",
        " \n",
        "  for col in df2.columns:\n",
        "    df2[col] = preprocessing.scale(df2[col].values)  # scale between 0 and 1.\n",
        " \n",
        "  df2.dropna(inplace=True)  # cleanup again... jic.\n",
        "  df3=df.drop(['SHAKHES', 'VOL-SHAKHES','NUM-SHAKHES','VALUE-SHAKHES','seke','dollar','<OPEN>','<HIGH>','<LOW>','<CLOSE>','<VOL>','<VALUE>'], axis=1)\n",
        "  #df3=df3.iloc[1:]\n",
        "  for col in df3.columns:  # go through all of the columns\n",
        "      if col != \"target\": # normalize all ... except for the target itself!\n",
        "        df3[col] = preprocessing.scale(df3[col].values)\n",
        "        #df3[col]=(df3[col]-df3[col].min())/(df3[col].max()-df3[col].min())\n",
        " \n",
        "  df4=df2.merge(df3, right_index=True,left_index=True, how='left', sort=False)\n",
        " \n",
        "  df5=df4[(np.abs(stats.zscore(df4)) < 3).all(axis=1)]\n",
        "  df5.dropna(inplace=True)  # cleanup again... jic. # cleanup again... jic.\n",
        " \n",
        "  sequential_data = []  # this is a list that will CONTAIN the sequences\n",
        "  prev_days = deque(maxlen=SEQ_LEN)  # These will be our actual sequences. They are made with deque, which keeps the maximum length by popping out older values as new ones come in\n",
        " \n",
        "  for i in df4.values:  # iterate over the values\n",
        "      prev_days.append([n for n in i[:-1]])  # store all but the target\n",
        "      if len(prev_days) == SEQ_LEN:  # make sure we have 60 sequences!\n",
        "          sequential_data.append([np.array(prev_days), i[-1]])  # append those bad boys!\n",
        " \n",
        "  random.shuffle(sequential_data)  # shuffle for good measure.\n",
        " \n",
        "  buys = []  # list that will store our buy sequences and targets\n",
        "  nothing=[] #kari nakon\n",
        "  sells = []  # list that will store our sell sequences and targets\n",
        " \n",
        "  for seq, target in sequential_data:  # iterate over the sequential data\n",
        "      if target == 1 :  # if it's a \"not buy\"\n",
        "          sells.append([seq, target])  # append to sells list\n",
        "      if target == 2 or 3  :  # if it's a \"not buy\"\n",
        "          nothing.append([seq, target])  # append to nothing list\n",
        "      if target == 4 :  # otherwise if the target is a 1...\n",
        "          buys.append([seq, target])  # it's a buy!\n",
        " \n",
        "  random.shuffle(buys)  # shuffle the buys\n",
        "  random.shuffle(nothing)\n",
        "  random.shuffle(sells)  # shuffle the sells!\n",
        "  \n",
        "  lower = min(len(buys), len(sells),len(nothing))  # what's the shorter length?\n",
        "  buys = buys[:lower]  # make sure both lists are only up to the shortest length.\n",
        "  nothing = nothing[:lower]\n",
        "  sells = sells[:lower]  # make sure both lists are only up to the shortest length.\n",
        " \n",
        "  sequential_data = buys+sells+nothing#+nothing2 # add them together\n",
        "  random.shuffle(sequential_data)  # another shuffle, so the model doesn't get confused with all 1 class then the other.\n",
        "  \n",
        "  X = []\n",
        "  y = []\n",
        "  \n",
        "  for seq, target in sequential_data:  # going over our new sequential data\n",
        "      X.append(seq)  # X is the sequences\n",
        "      y.append(target)  # y is the targets/labels (buys vs sell/notbuy)\n",
        " \n",
        "  return np.array(X), y  # return X and y...and make X a numpy array!"
      ],
      "metadata": {
        "id": "EXLwbEtrwJQw"
      },
      "execution_count": null,
      "outputs": []
    },
    {
      "cell_type": "code",
      "source": [
        "last_data=init_df_x.tail(SEQ_LEN)\n",
        "last_data2=last_data.drop(['MID'], axis=1)\n",
        "\n",
        "sequential_data = []  # this is a list that will CONTAIN the sequences\n",
        "prev_days = deque(maxlen=SEQ_LEN)  # These will be our actual sequences. They are made with deque, which keeps the maximum length by popping out older values as new ones come in\n",
        "\n",
        "for i in last_data2.values:  # iterate over the values\n",
        "    prev_days.append([n for n in i[:-1]])  # store all but the target\n",
        "    if len(prev_days) == SEQ_LEN:  # make sure we have 60 sequences!\n",
        "        sequential_data.append([np.array(prev_days), i[-1]])\n",
        "\n",
        "# Extract your training data\n",
        "X_LAST_init = np.asarray(last_data2)\n",
        "# Use hstack to and reshape to make the inputs a 3d vector\n",
        "X_LSAT = np.hstack(X_LAST_init).reshape(1,SEQ_LEN,last_data2.shape[1])\n",
        "#print(X_LSAT.shape)"
      ],
      "metadata": {
        "id": "yaUtz-Kuwbx5"
      },
      "execution_count": null,
      "outputs": []
    },
    {
      "cell_type": "code",
      "source": [
        "print(train_x.shape)\n",
        "print(validation_x.shape)\n",
        "print(X_LSAT.shape)\n",
        "\n",
        "print(train_y)\n",
        "print(validation_y)\n",
        "print(last_data)\n",
        "\n",
        "print(train_x.shape[2])\n",
        "print(train_x[:,0,:])"
      ],
      "metadata": {
        "id": "6x6XTd62wes3"
      },
      "execution_count": null,
      "outputs": []
    },
    {
      "cell_type": "code",
      "source": [
        "EPOCHS = 100  # how many passes through our data\n",
        "BATCH_SIZE = 32  # how many batches? Try smaller batch if you're getting OOM (out of memory) errors."
      ],
      "metadata": {
        "id": "cLus-7T0wkCf"
      },
      "execution_count": null,
      "outputs": []
    },
    {
      "cell_type": "code",
      "source": [
        "model = Sequential()\n",
        "model.add(LSTM(128, input_shape=(train_x.shape[1:]), return_sequences=True))\n",
        "model.add(Dropout(0.2))\n",
        "model.add(BatchNormalization())  #normalizes activation outputs, same reason you want to normalize your input data.\n",
        " \n",
        "model.add(LSTM(128, return_sequences=True))\n",
        "model.add(Dropout(0.1))\n",
        "model.add(BatchNormalization())\n",
        "\n",
        "model.add(LSTM(128))\n",
        "model.add(Dropout(0.2))\n",
        "model.add(BatchNormalization())\n",
        " \n",
        "model.add(Dense(64, activation='relu'))\n",
        "model.add(Dropout(0.2))\n",
        "\n",
        "model.add(Dense(3, activation='softmax'))\n",
        "\n",
        "\n",
        "opt = tf.keras.optimizers.Adam(lr=0.005, decay=1e-6)\n",
        " \n",
        "# Compile model\n",
        "model.compile(\n",
        "    loss='sparse_categorical_crossentropy',\n",
        "    optimizer=opt,\n",
        "    metrics=['accuracy'])\n",
        "#model.compile(optimizer='adam', loss='mse')\n",
        "print(model.summary())"
      ],
      "metadata": {
        "id": "LAZ5x6x6wmN3"
      },
      "execution_count": null,
      "outputs": []
    },
    {
      "cell_type": "code",
      "source": [],
      "metadata": {
        "id": "FD_CcV9CwnYm"
      },
      "execution_count": null,
      "outputs": []
    },
    {
      "cell_type": "markdown",
      "source": [
        "# **NY Stock Price Prediction RNN LSTM GRU**"
      ],
      "metadata": {
        "id": "1UqSjze0lYt-"
      }
    },
    {
      "cell_type": "code",
      "source": [
        "import numpy as np\n",
        "import pandas as pd\n",
        "import math\n",
        "import sklearn\n",
        "import sklearn.preprocessing\n",
        "import datetime\n",
        "import os\n",
        "import matplotlib.pyplot as plt\n",
        "import tensorflow as tf\n",
        "import tensorflow.compat.v1 as tf\n",
        "tf.disable_v2_behavior()\n",
        "\n",
        "# split data in 80%/10%/10% train/validation/test sets\n",
        "valid_set_size_percentage = 10 \n",
        "test_set_size_percentage = 10 \n",
        "\n",
        "#display parent directory and working directory\n",
        "print(os.path.dirname(os.getcwd())+':', os.listdir(os.path.dirname(os.getcwd())));\n",
        "print(os.getcwd()+':', os.listdir(os.getcwd()));"
      ],
      "metadata": {
        "colab": {
          "base_uri": "https://localhost:8080/"
        },
        "id": "jTqOjrd9lgF9",
        "outputId": "a798f31b-f835-4c43-90a8-833682b83ea5"
      },
      "execution_count": 12,
      "outputs": [
        {
          "output_type": "stream",
          "name": "stderr",
          "text": [
            "WARNING:tensorflow:From /usr/local/lib/python3.8/dist-packages/tensorflow/python/compat/v2_compat.py:107: disable_resource_variables (from tensorflow.python.ops.variable_scope) is deprecated and will be removed in a future version.\n",
            "Instructions for updating:\n",
            "non-resource variables are not supported in the long term\n"
          ]
        },
        {
          "output_type": "stream",
          "name": "stdout",
          "text": [
            "/: ['mnt', 'var', 'dev', 'etc', 'libx32', 'sys', 'opt', 'media', 'lib64', 'sbin', 'home', 'usr', 'boot', 'lib', 'tmp', 'srv', 'lib32', 'run', 'root', 'bin', 'proc', '.dockerenv', 'tools', 'datalab', 'content', 'NGC-DL-CONTAINER-LICENSE']\n",
            "/content: ['.config', 'sample_data']\n"
          ]
        }
      ]
    },
    {
      "cell_type": "code",
      "source": [
        "!pip install cryptocmd\n",
        "from cryptocmd import CmcScraper"
      ],
      "metadata": {
        "colab": {
          "base_uri": "https://localhost:8080/"
        },
        "id": "NlSFaXc-lsPW",
        "outputId": "3923a04e-0566-4def-f8e6-c48169cc5a8d"
      },
      "execution_count": 2,
      "outputs": [
        {
          "output_type": "stream",
          "name": "stdout",
          "text": [
            "Looking in indexes: https://pypi.org/simple, https://us-python.pkg.dev/colab-wheels/public/simple/\n",
            "Collecting cryptocmd\n",
            "  Downloading cryptocmd-0.6.1-py3-none-any.whl (8.5 kB)\n",
            "Requirement already satisfied: requests in /usr/local/lib/python3.8/dist-packages (from cryptocmd) (2.25.1)\n",
            "Collecting tablib\n",
            "  Downloading tablib-3.3.0-py3-none-any.whl (48 kB)\n",
            "\u001b[2K     \u001b[90m━━━━━━━━━━━━━━━━━━━━━━━━━━━━━━━━━━━━━━━\u001b[0m \u001b[32m48.6/48.6 KB\u001b[0m \u001b[31m666.0 kB/s\u001b[0m eta \u001b[36m0:00:00\u001b[0m\n",
            "\u001b[?25hRequirement already satisfied: chardet<5,>=3.0.2 in /usr/local/lib/python3.8/dist-packages (from requests->cryptocmd) (4.0.0)\n",
            "Requirement already satisfied: urllib3<1.27,>=1.21.1 in /usr/local/lib/python3.8/dist-packages (from requests->cryptocmd) (1.24.3)\n",
            "Requirement already satisfied: idna<3,>=2.5 in /usr/local/lib/python3.8/dist-packages (from requests->cryptocmd) (2.10)\n",
            "Requirement already satisfied: certifi>=2017.4.17 in /usr/local/lib/python3.8/dist-packages (from requests->cryptocmd) (2022.12.7)\n",
            "Installing collected packages: tablib, cryptocmd\n",
            "Successfully installed cryptocmd-0.6.1 tablib-3.3.0\n"
          ]
        }
      ]
    },
    {
      "cell_type": "code",
      "source": [
        "Stock_name=\"BTC\"\n",
        "\n",
        "# initialise scraper without time interval for max historical data\n",
        "scraper = CmcScraper(Stock_name)\n",
        "# Pandas dataFrame for the same data\n",
        "df = scraper.get_dataframe()\n",
        "'''\n",
        "df['Date'] = pd.to_datetime(df['Date'],format='%Y-%m-%d')#.dt.strftime(\"%Y-%m-%d\");\n",
        "df.set_index('Date', inplace=True)\n",
        "df.sort_index(inplace=True)\n",
        "df\n",
        "'''"
      ],
      "metadata": {
        "colab": {
          "base_uri": "https://localhost:8080/"
        },
        "id": "174TBvrglwQV",
        "outputId": "d0a1738f-9689-486f-97ef-ed290d6da8bf"
      },
      "execution_count": 3,
      "outputs": [
        {
          "output_type": "execute_result",
          "data": {
            "text/plain": [
              "'\\ndf[\\'Date\\'] = pd.to_datetime(df[\\'Date\\'],format=\\'%Y-%m-%d\\')#.dt.strftime(\"%Y-%m-%d\");\\ndf.set_index(\\'Date\\', inplace=True)\\ndf.sort_index(inplace=True)\\ndf\\n'"
            ],
            "application/vnd.google.colaboratory.intrinsic+json": {
              "type": "string"
            }
          },
          "metadata": {},
          "execution_count": 3
        }
      ]
    },
    {
      "cell_type": "code",
      "source": [
        "df.tail()"
      ],
      "metadata": {
        "colab": {
          "base_uri": "https://localhost:8080/"
        },
        "id": "kLTWKMv_l8zd",
        "outputId": "b61cd9dd-c798-425d-d630-246314fcfb53"
      },
      "execution_count": 4,
      "outputs": [
        {
          "output_type": "execute_result",
          "data": {
            "text/plain": [
              "           Date        Open        High         Low       Close  Volume  \\\n",
              "3566 2013-05-02  116.379997  125.599998   92.281898  105.209999     0.0   \n",
              "3567 2013-05-01  139.000000  139.889999  107.720001  116.989998     0.0   \n",
              "3568 2013-04-30  144.000000  146.929993  134.050003  139.000000     0.0   \n",
              "3569 2013-04-29  134.444000  147.488007  134.000000  144.539993     0.0   \n",
              "3570 2013-04-28  135.300003  135.979996  132.100006  134.210007     0.0   \n",
              "\n",
              "        Market Cap  \n",
              "3566  1.168517e+09  \n",
              "3567  1.298955e+09  \n",
              "3568  1.542813e+09  \n",
              "3569  1.603769e+09  \n",
              "3570  1.488567e+09  "
            ],
            "text/html": [
              "\n",
              "  <div id=\"df-0fbd9fc0-d3c5-4dad-8897-5613a2444e66\">\n",
              "    <div class=\"colab-df-container\">\n",
              "      <div>\n",
              "<style scoped>\n",
              "    .dataframe tbody tr th:only-of-type {\n",
              "        vertical-align: middle;\n",
              "    }\n",
              "\n",
              "    .dataframe tbody tr th {\n",
              "        vertical-align: top;\n",
              "    }\n",
              "\n",
              "    .dataframe thead th {\n",
              "        text-align: right;\n",
              "    }\n",
              "</style>\n",
              "<table border=\"1\" class=\"dataframe\">\n",
              "  <thead>\n",
              "    <tr style=\"text-align: right;\">\n",
              "      <th></th>\n",
              "      <th>Date</th>\n",
              "      <th>Open</th>\n",
              "      <th>High</th>\n",
              "      <th>Low</th>\n",
              "      <th>Close</th>\n",
              "      <th>Volume</th>\n",
              "      <th>Market Cap</th>\n",
              "    </tr>\n",
              "  </thead>\n",
              "  <tbody>\n",
              "    <tr>\n",
              "      <th>3566</th>\n",
              "      <td>2013-05-02</td>\n",
              "      <td>116.379997</td>\n",
              "      <td>125.599998</td>\n",
              "      <td>92.281898</td>\n",
              "      <td>105.209999</td>\n",
              "      <td>0.0</td>\n",
              "      <td>1.168517e+09</td>\n",
              "    </tr>\n",
              "    <tr>\n",
              "      <th>3567</th>\n",
              "      <td>2013-05-01</td>\n",
              "      <td>139.000000</td>\n",
              "      <td>139.889999</td>\n",
              "      <td>107.720001</td>\n",
              "      <td>116.989998</td>\n",
              "      <td>0.0</td>\n",
              "      <td>1.298955e+09</td>\n",
              "    </tr>\n",
              "    <tr>\n",
              "      <th>3568</th>\n",
              "      <td>2013-04-30</td>\n",
              "      <td>144.000000</td>\n",
              "      <td>146.929993</td>\n",
              "      <td>134.050003</td>\n",
              "      <td>139.000000</td>\n",
              "      <td>0.0</td>\n",
              "      <td>1.542813e+09</td>\n",
              "    </tr>\n",
              "    <tr>\n",
              "      <th>3569</th>\n",
              "      <td>2013-04-29</td>\n",
              "      <td>134.444000</td>\n",
              "      <td>147.488007</td>\n",
              "      <td>134.000000</td>\n",
              "      <td>144.539993</td>\n",
              "      <td>0.0</td>\n",
              "      <td>1.603769e+09</td>\n",
              "    </tr>\n",
              "    <tr>\n",
              "      <th>3570</th>\n",
              "      <td>2013-04-28</td>\n",
              "      <td>135.300003</td>\n",
              "      <td>135.979996</td>\n",
              "      <td>132.100006</td>\n",
              "      <td>134.210007</td>\n",
              "      <td>0.0</td>\n",
              "      <td>1.488567e+09</td>\n",
              "    </tr>\n",
              "  </tbody>\n",
              "</table>\n",
              "</div>\n",
              "      <button class=\"colab-df-convert\" onclick=\"convertToInteractive('df-0fbd9fc0-d3c5-4dad-8897-5613a2444e66')\"\n",
              "              title=\"Convert this dataframe to an interactive table.\"\n",
              "              style=\"display:none;\">\n",
              "        \n",
              "  <svg xmlns=\"http://www.w3.org/2000/svg\" height=\"24px\"viewBox=\"0 0 24 24\"\n",
              "       width=\"24px\">\n",
              "    <path d=\"M0 0h24v24H0V0z\" fill=\"none\"/>\n",
              "    <path d=\"M18.56 5.44l.94 2.06.94-2.06 2.06-.94-2.06-.94-.94-2.06-.94 2.06-2.06.94zm-11 1L8.5 8.5l.94-2.06 2.06-.94-2.06-.94L8.5 2.5l-.94 2.06-2.06.94zm10 10l.94 2.06.94-2.06 2.06-.94-2.06-.94-.94-2.06-.94 2.06-2.06.94z\"/><path d=\"M17.41 7.96l-1.37-1.37c-.4-.4-.92-.59-1.43-.59-.52 0-1.04.2-1.43.59L10.3 9.45l-7.72 7.72c-.78.78-.78 2.05 0 2.83L4 21.41c.39.39.9.59 1.41.59.51 0 1.02-.2 1.41-.59l7.78-7.78 2.81-2.81c.8-.78.8-2.07 0-2.86zM5.41 20L4 18.59l7.72-7.72 1.47 1.35L5.41 20z\"/>\n",
              "  </svg>\n",
              "      </button>\n",
              "      \n",
              "  <style>\n",
              "    .colab-df-container {\n",
              "      display:flex;\n",
              "      flex-wrap:wrap;\n",
              "      gap: 12px;\n",
              "    }\n",
              "\n",
              "    .colab-df-convert {\n",
              "      background-color: #E8F0FE;\n",
              "      border: none;\n",
              "      border-radius: 50%;\n",
              "      cursor: pointer;\n",
              "      display: none;\n",
              "      fill: #1967D2;\n",
              "      height: 32px;\n",
              "      padding: 0 0 0 0;\n",
              "      width: 32px;\n",
              "    }\n",
              "\n",
              "    .colab-df-convert:hover {\n",
              "      background-color: #E2EBFA;\n",
              "      box-shadow: 0px 1px 2px rgba(60, 64, 67, 0.3), 0px 1px 3px 1px rgba(60, 64, 67, 0.15);\n",
              "      fill: #174EA6;\n",
              "    }\n",
              "\n",
              "    [theme=dark] .colab-df-convert {\n",
              "      background-color: #3B4455;\n",
              "      fill: #D2E3FC;\n",
              "    }\n",
              "\n",
              "    [theme=dark] .colab-df-convert:hover {\n",
              "      background-color: #434B5C;\n",
              "      box-shadow: 0px 1px 3px 1px rgba(0, 0, 0, 0.15);\n",
              "      filter: drop-shadow(0px 1px 2px rgba(0, 0, 0, 0.3));\n",
              "      fill: #FFFFFF;\n",
              "    }\n",
              "  </style>\n",
              "\n",
              "      <script>\n",
              "        const buttonEl =\n",
              "          document.querySelector('#df-0fbd9fc0-d3c5-4dad-8897-5613a2444e66 button.colab-df-convert');\n",
              "        buttonEl.style.display =\n",
              "          google.colab.kernel.accessAllowed ? 'block' : 'none';\n",
              "\n",
              "        async function convertToInteractive(key) {\n",
              "          const element = document.querySelector('#df-0fbd9fc0-d3c5-4dad-8897-5613a2444e66');\n",
              "          const dataTable =\n",
              "            await google.colab.kernel.invokeFunction('convertToInteractive',\n",
              "                                                     [key], {});\n",
              "          if (!dataTable) return;\n",
              "\n",
              "          const docLinkHtml = 'Like what you see? Visit the ' +\n",
              "            '<a target=\"_blank\" href=https://colab.research.google.com/notebooks/data_table.ipynb>data table notebook</a>'\n",
              "            + ' to learn more about interactive tables.';\n",
              "          element.innerHTML = '';\n",
              "          dataTable['output_type'] = 'display_data';\n",
              "          await google.colab.output.renderOutput(dataTable, element);\n",
              "          const docLink = document.createElement('div');\n",
              "          docLink.innerHTML = docLinkHtml;\n",
              "          element.appendChild(docLink);\n",
              "        }\n",
              "      </script>\n",
              "    </div>\n",
              "  </div>\n",
              "  "
            ]
          },
          "metadata": {},
          "execution_count": 4
        }
      ]
    },
    {
      "cell_type": "code",
      "source": [
        "df.describe()"
      ],
      "metadata": {
        "colab": {
          "base_uri": "https://localhost:8080/"
        },
        "id": "ry1CQgq2mDAt",
        "outputId": "be1fa795-43f8-4492-fb82-5fb8019d2580"
      },
      "execution_count": 5,
      "outputs": [
        {
          "output_type": "execute_result",
          "data": {
            "text/plain": [
              "               Open          High           Low         Close        Volume  \\\n",
              "count   3571.000000   3571.000000   3571.000000   3571.000000  3.571000e+03   \n",
              "mean   11170.864698  11451.803912  10858.907721  11175.971744  1.408336e+10   \n",
              "std    15557.171038  15953.834416  15100.699888  15554.072133  1.928604e+10   \n",
              "min       68.504997     74.561096     65.526001     68.431000  0.000000e+00   \n",
              "25%      496.188995    509.938004    481.943512    495.868011  4.481485e+07   \n",
              "50%     5279.471142   5371.348516   5177.368514   5285.139008  4.396930e+09   \n",
              "75%    11904.367632  12164.688514  11639.725316  11916.517668  2.501136e+10   \n",
              "max    67549.735581  68789.625939  66382.061008  67566.830088  3.509679e+11   \n",
              "\n",
              "         Market Cap  \n",
              "count  3.571000e+03  \n",
              "mean   2.065932e+11  \n",
              "std    2.939878e+11  \n",
              "min    7.784112e+08  \n",
              "25%    6.946328e+09  \n",
              "50%    9.327229e+10  \n",
              "75%    2.174276e+11  \n",
              "max    1.274831e+12  "
            ],
            "text/html": [
              "\n",
              "  <div id=\"df-abd3537a-bc96-44a4-83fa-49c05b4435a3\">\n",
              "    <div class=\"colab-df-container\">\n",
              "      <div>\n",
              "<style scoped>\n",
              "    .dataframe tbody tr th:only-of-type {\n",
              "        vertical-align: middle;\n",
              "    }\n",
              "\n",
              "    .dataframe tbody tr th {\n",
              "        vertical-align: top;\n",
              "    }\n",
              "\n",
              "    .dataframe thead th {\n",
              "        text-align: right;\n",
              "    }\n",
              "</style>\n",
              "<table border=\"1\" class=\"dataframe\">\n",
              "  <thead>\n",
              "    <tr style=\"text-align: right;\">\n",
              "      <th></th>\n",
              "      <th>Open</th>\n",
              "      <th>High</th>\n",
              "      <th>Low</th>\n",
              "      <th>Close</th>\n",
              "      <th>Volume</th>\n",
              "      <th>Market Cap</th>\n",
              "    </tr>\n",
              "  </thead>\n",
              "  <tbody>\n",
              "    <tr>\n",
              "      <th>count</th>\n",
              "      <td>3571.000000</td>\n",
              "      <td>3571.000000</td>\n",
              "      <td>3571.000000</td>\n",
              "      <td>3571.000000</td>\n",
              "      <td>3.571000e+03</td>\n",
              "      <td>3.571000e+03</td>\n",
              "    </tr>\n",
              "    <tr>\n",
              "      <th>mean</th>\n",
              "      <td>11170.864698</td>\n",
              "      <td>11451.803912</td>\n",
              "      <td>10858.907721</td>\n",
              "      <td>11175.971744</td>\n",
              "      <td>1.408336e+10</td>\n",
              "      <td>2.065932e+11</td>\n",
              "    </tr>\n",
              "    <tr>\n",
              "      <th>std</th>\n",
              "      <td>15557.171038</td>\n",
              "      <td>15953.834416</td>\n",
              "      <td>15100.699888</td>\n",
              "      <td>15554.072133</td>\n",
              "      <td>1.928604e+10</td>\n",
              "      <td>2.939878e+11</td>\n",
              "    </tr>\n",
              "    <tr>\n",
              "      <th>min</th>\n",
              "      <td>68.504997</td>\n",
              "      <td>74.561096</td>\n",
              "      <td>65.526001</td>\n",
              "      <td>68.431000</td>\n",
              "      <td>0.000000e+00</td>\n",
              "      <td>7.784112e+08</td>\n",
              "    </tr>\n",
              "    <tr>\n",
              "      <th>25%</th>\n",
              "      <td>496.188995</td>\n",
              "      <td>509.938004</td>\n",
              "      <td>481.943512</td>\n",
              "      <td>495.868011</td>\n",
              "      <td>4.481485e+07</td>\n",
              "      <td>6.946328e+09</td>\n",
              "    </tr>\n",
              "    <tr>\n",
              "      <th>50%</th>\n",
              "      <td>5279.471142</td>\n",
              "      <td>5371.348516</td>\n",
              "      <td>5177.368514</td>\n",
              "      <td>5285.139008</td>\n",
              "      <td>4.396930e+09</td>\n",
              "      <td>9.327229e+10</td>\n",
              "    </tr>\n",
              "    <tr>\n",
              "      <th>75%</th>\n",
              "      <td>11904.367632</td>\n",
              "      <td>12164.688514</td>\n",
              "      <td>11639.725316</td>\n",
              "      <td>11916.517668</td>\n",
              "      <td>2.501136e+10</td>\n",
              "      <td>2.174276e+11</td>\n",
              "    </tr>\n",
              "    <tr>\n",
              "      <th>max</th>\n",
              "      <td>67549.735581</td>\n",
              "      <td>68789.625939</td>\n",
              "      <td>66382.061008</td>\n",
              "      <td>67566.830088</td>\n",
              "      <td>3.509679e+11</td>\n",
              "      <td>1.274831e+12</td>\n",
              "    </tr>\n",
              "  </tbody>\n",
              "</table>\n",
              "</div>\n",
              "      <button class=\"colab-df-convert\" onclick=\"convertToInteractive('df-abd3537a-bc96-44a4-83fa-49c05b4435a3')\"\n",
              "              title=\"Convert this dataframe to an interactive table.\"\n",
              "              style=\"display:none;\">\n",
              "        \n",
              "  <svg xmlns=\"http://www.w3.org/2000/svg\" height=\"24px\"viewBox=\"0 0 24 24\"\n",
              "       width=\"24px\">\n",
              "    <path d=\"M0 0h24v24H0V0z\" fill=\"none\"/>\n",
              "    <path d=\"M18.56 5.44l.94 2.06.94-2.06 2.06-.94-2.06-.94-.94-2.06-.94 2.06-2.06.94zm-11 1L8.5 8.5l.94-2.06 2.06-.94-2.06-.94L8.5 2.5l-.94 2.06-2.06.94zm10 10l.94 2.06.94-2.06 2.06-.94-2.06-.94-.94-2.06-.94 2.06-2.06.94z\"/><path d=\"M17.41 7.96l-1.37-1.37c-.4-.4-.92-.59-1.43-.59-.52 0-1.04.2-1.43.59L10.3 9.45l-7.72 7.72c-.78.78-.78 2.05 0 2.83L4 21.41c.39.39.9.59 1.41.59.51 0 1.02-.2 1.41-.59l7.78-7.78 2.81-2.81c.8-.78.8-2.07 0-2.86zM5.41 20L4 18.59l7.72-7.72 1.47 1.35L5.41 20z\"/>\n",
              "  </svg>\n",
              "      </button>\n",
              "      \n",
              "  <style>\n",
              "    .colab-df-container {\n",
              "      display:flex;\n",
              "      flex-wrap:wrap;\n",
              "      gap: 12px;\n",
              "    }\n",
              "\n",
              "    .colab-df-convert {\n",
              "      background-color: #E8F0FE;\n",
              "      border: none;\n",
              "      border-radius: 50%;\n",
              "      cursor: pointer;\n",
              "      display: none;\n",
              "      fill: #1967D2;\n",
              "      height: 32px;\n",
              "      padding: 0 0 0 0;\n",
              "      width: 32px;\n",
              "    }\n",
              "\n",
              "    .colab-df-convert:hover {\n",
              "      background-color: #E2EBFA;\n",
              "      box-shadow: 0px 1px 2px rgba(60, 64, 67, 0.3), 0px 1px 3px 1px rgba(60, 64, 67, 0.15);\n",
              "      fill: #174EA6;\n",
              "    }\n",
              "\n",
              "    [theme=dark] .colab-df-convert {\n",
              "      background-color: #3B4455;\n",
              "      fill: #D2E3FC;\n",
              "    }\n",
              "\n",
              "    [theme=dark] .colab-df-convert:hover {\n",
              "      background-color: #434B5C;\n",
              "      box-shadow: 0px 1px 3px 1px rgba(0, 0, 0, 0.15);\n",
              "      filter: drop-shadow(0px 1px 2px rgba(0, 0, 0, 0.3));\n",
              "      fill: #FFFFFF;\n",
              "    }\n",
              "  </style>\n",
              "\n",
              "      <script>\n",
              "        const buttonEl =\n",
              "          document.querySelector('#df-abd3537a-bc96-44a4-83fa-49c05b4435a3 button.colab-df-convert');\n",
              "        buttonEl.style.display =\n",
              "          google.colab.kernel.accessAllowed ? 'block' : 'none';\n",
              "\n",
              "        async function convertToInteractive(key) {\n",
              "          const element = document.querySelector('#df-abd3537a-bc96-44a4-83fa-49c05b4435a3');\n",
              "          const dataTable =\n",
              "            await google.colab.kernel.invokeFunction('convertToInteractive',\n",
              "                                                     [key], {});\n",
              "          if (!dataTable) return;\n",
              "\n",
              "          const docLinkHtml = 'Like what you see? Visit the ' +\n",
              "            '<a target=\"_blank\" href=https://colab.research.google.com/notebooks/data_table.ipynb>data table notebook</a>'\n",
              "            + ' to learn more about interactive tables.';\n",
              "          element.innerHTML = '';\n",
              "          dataTable['output_type'] = 'display_data';\n",
              "          await google.colab.output.renderOutput(dataTable, element);\n",
              "          const docLink = document.createElement('div');\n",
              "          docLink.innerHTML = docLinkHtml;\n",
              "          element.appendChild(docLink);\n",
              "        }\n",
              "      </script>\n",
              "    </div>\n",
              "  </div>\n",
              "  "
            ]
          },
          "metadata": {},
          "execution_count": 5
        }
      ]
    },
    {
      "cell_type": "code",
      "source": [
        "df.info()"
      ],
      "metadata": {
        "colab": {
          "base_uri": "https://localhost:8080/"
        },
        "id": "TmLuWplqmG4G",
        "outputId": "bca85e2c-2b79-417a-f9bb-c13f1f0ed057"
      },
      "execution_count": 6,
      "outputs": [
        {
          "output_type": "stream",
          "name": "stdout",
          "text": [
            "<class 'pandas.core.frame.DataFrame'>\n",
            "RangeIndex: 3571 entries, 0 to 3570\n",
            "Data columns (total 7 columns):\n",
            " #   Column      Non-Null Count  Dtype         \n",
            "---  ------      --------------  -----         \n",
            " 0   Date        3571 non-null   datetime64[ns]\n",
            " 1   Open        3571 non-null   float64       \n",
            " 2   High        3571 non-null   float64       \n",
            " 3   Low         3571 non-null   float64       \n",
            " 4   Close       3571 non-null   float64       \n",
            " 5   Volume      3571 non-null   float64       \n",
            " 6   Market Cap  3571 non-null   float64       \n",
            "dtypes: datetime64[ns](1), float64(6)\n",
            "memory usage: 195.4 KB\n"
          ]
        }
      ]
    },
    {
      "cell_type": "code",
      "source": [
        "df.rename(columns={'Open':'open','High':'high','Low':'low', 'Close':'close','Volume':'volume'}, inplace=True)"
      ],
      "metadata": {
        "id": "Jo0DikdMnGY5"
      },
      "execution_count": 7,
      "outputs": []
    }
  ]
}